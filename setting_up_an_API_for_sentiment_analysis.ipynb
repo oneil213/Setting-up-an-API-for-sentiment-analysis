{
 "cells": [
  {
   "cell_type": "markdown",
   "id": "257f91d8",
   "metadata": {},
   "source": [
    "### 1. Prepare your workstation"
   ]
  },
  {
   "cell_type": "code",
   "execution_count": 8,
   "id": "969795f3",
   "metadata": {},
   "outputs": [
    {
     "name": "stdout",
     "output_type": "stream",
     "text": [
      "'Api code here'\n"
     ]
    }
   ],
   "source": [
    "# Install the Google API client library.\n",
    "#!pip install google-api-python-client\n",
    "\n",
    "# Import the necessary libraries.\n",
    "import googleapiclient.discovery\n",
    "import os\n",
    "from dotenv import load_dotenv\n",
    "\n",
    "load_dotenv()\n",
    "\n",
    "# Locate and read the key from your .env file.\n",
    "API_key = os.getenv('YouTube_API_key')\n",
    "\n",
    "# Test that the key can be called.\n",
    "print(API_key)"
   ]
  },
  {
   "cell_type": "code",
   "execution_count": 9,
   "id": "f7695206",
   "metadata": {},
   "outputs": [
    {
     "name": "stdout",
     "output_type": "stream",
     "text": [
      "Python Sentiment Analysis Project with NLTK and 🤗 Transformers. Classify Amazon Reviews!!\n",
      "Sentiment Analysis with/without NLTK Python\n",
      "Sentiment Analysis: extracting emotion through machine learning | Andy Kim | TEDxDeerfield\n",
      "Sentiment Analysis in Microsoft Excel!\n",
      "A Quick Guide To Sentiment Analysis | Sentiment Analysis In Python Using Textblob  |  Edureka\n",
      "Sentiment Analysis In 10 Minutes | Sentiment Analysis Using Python | Great Learning\n",
      "How Sentiment Analysis works | AI | NLP\n",
      "What is Sentiment Analysis?\n",
      "Simple Sentiment Text Analysis in Python\n",
      "Twitter Sentiment Analysis by Python | best NLP model 2022\n",
      "Ultimate Sentiment Analysis Course for Traders\n",
      "Trading Sentiment Analysis | Examples Trading With &amp; Against the Crowd\n",
      "Sentiment Analysis with BERT Neural Network and Python\n",
      "Lecture 5 – Sentiment Analysis 1 | Stanford CS224U: Natural Language Understanding | Spring 2019\n",
      "TWITTER SENTIMENT ANALYSIS (NLP) | Machine Learning Projects | GeeksforGeeks\n",
      "Forex Sentiment: Here’s How to View &amp; Trade Against Retail Traders like a PRO!\n",
      "What is Sentiment Analysis?\n",
      "Sentiment Analysis\n",
      "Sentiment Analysis on Social Media\n",
      "Sentiment Analysis Project from Data Preprocessing to Productionization\n"
     ]
    }
   ],
   "source": [
    "# Create an API call.\n",
    "youtube = googleapiclient.discovery.build('youtube', 'v3', developerKey=API_key)\n",
    "\n",
    "# Create a search request.\n",
    "search_request = youtube.search().list(\n",
    " part='snippet',\n",
    " q='sentiment analysis',\n",
    " maxResults=20\n",
    ")\n",
    "\n",
    "# Make the search request.\n",
    "search_response = search_request.execute()\n",
    "\n",
    "# Get the search results.\n",
    "search_results = search_response['items']\n",
    "\n",
    "# Print the search results.\n",
    "for search_result in search_results:\n",
    " print(search_result['snippet']['title'])"
   ]
  },
  {
   "cell_type": "markdown",
   "id": "335497e0",
   "metadata": {},
   "source": [
    "### 2. Make an API call"
   ]
  },
  {
   "cell_type": "code",
   "execution_count": null,
   "id": "7f5a9104",
   "metadata": {},
   "outputs": [],
   "source": []
  }
 ],
 "metadata": {
  "kernelspec": {
   "display_name": "Python 3 (ipykernel)",
   "language": "python",
   "name": "python3"
  },
  "language_info": {
   "codemirror_mode": {
    "name": "ipython",
    "version": 3
   },
   "file_extension": ".py",
   "mimetype": "text/x-python",
   "name": "python",
   "nbconvert_exporter": "python",
   "pygments_lexer": "ipython3",
   "version": "3.11.6"
  }
 },
 "nbformat": 4,
 "nbformat_minor": 5
}
